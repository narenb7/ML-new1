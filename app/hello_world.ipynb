{
 "cells": [
  {
   "cell_type": "code",
   "execution_count": null,
   "metadata": {},
   "outputs": [],
   "source": [
    "import pandas as pd\n",
    "import numpy as np\n",
    "import matplotlib.pyplot as plt"
   ]
  },
  {
   "cell_type": "code",
   "execution_count": null,
   "metadata": {},
   "outputs": [],
   "source": [
    "    np.random.seed(0)\n",
    "\n",
    "     values = np.random.randn(100) # array of normally distributed random numbers\n",
    "     s = pd.Series(values) # generate a pandas series\n",
    "     s.plot(kind='hist', title='Normally distributed random values') # hist computes distribution\n",
    "     plt.show() "
   ]
  }
 ],
 "metadata": {
  "language_info": {
   "name": "python"
  },
  "orig_nbformat": 4
 },
 "nbformat": 4,
 "nbformat_minor": 2
}
